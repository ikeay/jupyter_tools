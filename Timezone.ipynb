{
 "cells": [
  {
   "cell_type": "markdown",
   "id": "967a88c5",
   "metadata": {},
   "source": [
    "# タイムゾーン変換\n",
    "\n",
    "[タイムゾーン一覧](https://en.wikipedia.org/wiki/List_of_tz_database_time_zones)"
   ]
  },
  {
   "cell_type": "code",
   "execution_count": 40,
   "id": "c49f4b5c",
   "metadata": {},
   "outputs": [
    {
     "data": {
      "application/vnd.jupyter.widget-view+json": {
       "model_id": "0d74ae199d5546aca14d280129b7d87c",
       "version_major": 2,
       "version_minor": 0
      },
      "text/plain": [
       "interactive(children=(DatetimePicker(value=None, description='Input Date'), Text(value='+0900', description='I…"
      ]
     },
     "metadata": {},
     "output_type": "display_data"
    },
    {
     "data": {
      "text/plain": [
       "<function __main__.on_value_change(input_datetime, input_timezone_string, output_timezone_string)>"
      ]
     },
     "execution_count": 40,
     "metadata": {},
     "output_type": "execute_result"
    }
   ],
   "source": [
    "from datetime import datetime, timedelta, timezone, date\n",
    "from ipywidgets import widgets\n",
    "import re\n",
    "\n",
    "def get_timezone_hour(s):\n",
    "    return int(s[1:3]) if s[0] == \"+\" else int(s[1:3]) * -1\n",
    "\n",
    "def get_timezone_minutes(s):\n",
    "    return int(s[3:])\n",
    "\n",
    "def validate_timezone(s):\n",
    "    if re.match(r\"^(\\+|-)\\d\\d\\d\\d$\", s):\n",
    "        return True\n",
    "    else:\n",
    "        return False\n",
    "\n",
    "def on_value_change(input_datetime, input_timezone_string, output_timezone_string):\n",
    "    if input_datetime is None: return None\n",
    "    if not (validate_timezone(input_timezone_string) and validate_timezone(output_timezone_string)): return None\n",
    "\n",
    "    input_timezone_hours = get_timezone_hour(input_timezone_string)\n",
    "    input_timezone_minutes = get_timezone_minutes(input_timezone_string)\n",
    "    input_timezone = timezone(timedelta(hours=input_timezone_hours, minutes=input_timezone_minutes))\n",
    "    formatted_input_datetime = input_datetime.replace(tzinfo=input_timezone)\n",
    "\n",
    "    output_timezone_hours = get_timezone_hour(output_timezone_string)\n",
    "    output_timezone_minutes = get_timezone_minutes(output_timezone_string)\n",
    "    output_timezone = timezone(timedelta(hours=output_timezone_hours, minutes=output_timezone_minutes))\n",
    "\n",
    "    parsed_output_datetime = formatted_input_datetime.astimezone(output_timezone)\n",
    "\n",
    "    print(\"Input: {}\".format(formatted_input_datetime))\n",
    "    print(\"Output: {}\".format(parsed_output_datetime))\n",
    "    \n",
    "    return parsed_output_datetime\n",
    "\n",
    "input_datetime_ui = widgets.DatetimePicker(description=\"Input Date\")\n",
    "input_timezone_ui = widgets.Text(description=\"Input Timezone\", value=\"+0900\")\n",
    "output_timezone_ui = widgets.Text(description=\"Output Timezone\", value=\"-0400\")\n",
    "widgets.interact(on_value_change, input_datetime=input_datetime_ui, input_timezone_string=input_timezone_ui, output_timezone_string=output_timezone_ui)\n"
   ]
  },
  {
   "cell_type": "code",
   "execution_count": null,
   "id": "fb16e03c",
   "metadata": {},
   "outputs": [],
   "source": []
  }
 ],
 "metadata": {
  "kernelspec": {
   "display_name": "Python 3 (ipykernel)",
   "language": "python",
   "name": "python3"
  },
  "language_info": {
   "codemirror_mode": {
    "name": "ipython",
    "version": 3
   },
   "file_extension": ".py",
   "mimetype": "text/x-python",
   "name": "python",
   "nbconvert_exporter": "python",
   "pygments_lexer": "ipython3",
   "version": "3.8.9"
  }
 },
 "nbformat": 4,
 "nbformat_minor": 5
}
